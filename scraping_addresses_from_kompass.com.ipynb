{
 "cells": [
  {
   "cell_type": "code",
   "execution_count": 115,
   "id": "private-knight",
   "metadata": {
    "scrolled": true
   },
   "outputs": [],
   "source": [
    "import requests\n",
    "from scrapy.http import TextResponse\n",
    "from requests_html import HTMLSession\n",
    "\n",
    "from lxml import html\n",
    "import time"
   ]
  },
  {
   "cell_type": "code",
   "execution_count": 103,
   "id": "british-exposure",
   "metadata": {},
   "outputs": [],
   "source": [
    "url = 'https://us.kompass.com/searchCompanies?acClassif=&localizationCode=US_53_033&localizationLabel=King+County&localizationType=district&text=&searchType=SUPPLIER'"
   ]
  },
  {
   "cell_type": "code",
   "execution_count": 104,
   "id": "circular-election",
   "metadata": {},
   "outputs": [],
   "source": [
    "session = HTMLSession()\n",
    "response = session.get(url)\n",
    "response = TextResponse(url = response.url, body = response.text, encoding = \"utf-8\")"
   ]
  },
  {
   "cell_type": "code",
   "execution_count": 105,
   "id": "narrow-drawing",
   "metadata": {},
   "outputs": [],
   "source": [
    "url_list = ['https://us.kompass.com'+i for i in response.css('div[class = \"col col-title company-container\"]>a::attr(href)').extract()]\n",
    "\n"
   ]
  },
  {
   "cell_type": "code",
   "execution_count": 106,
   "id": "1f5846d6",
   "metadata": {},
   "outputs": [
    {
     "data": {
      "text/plain": [
       "['https://us.kompass.com/c/oar-northwest/usm13581271/',\n",
       " 'https://us.kompass.com/c/rena-ware-distributors-inc/usm13555542/',\n",
       " 'https://us.kompass.com/c/atlas-air-conditioning-inc/usm13601423/',\n",
       " 'https://us.kompass.com/c/apt-host-communications-inc/usm13581994/',\n",
       " 'https://us.kompass.com/c/premiere-events-corp/usm13552192/',\n",
       " 'https://us.kompass.com/c/washington-cultural-exchange/usm13560807/',\n",
       " 'https://us.kompass.com/c/busy-body-home-fitness/usm13601087/',\n",
       " 'https://us.kompass.com/c/jenny-craig-inc/usm13592147/',\n",
       " 'https://us.kompass.com/c/pcc-financial-svc/usm13581116/',\n",
       " 'https://us.kompass.com/c/rot-dr/usm13594721/',\n",
       " 'https://us.kompass.com/c/sr-schill-associates-inc/usm13581924/',\n",
       " 'https://us.kompass.com/c/alpine-gentle-roof-cleaning/usm13601359/',\n",
       " 'https://us.kompass.com/c/kelly-joan-t-licsw/usm13580363/',\n",
       " 'https://us.kompass.com/c/mac-maniman-inc/usm13561467/',\n",
       " 'https://us.kompass.com/c/community-technology-institute/usm13592100/',\n",
       " 'https://us.kompass.com/c/education-first-consulting-llc/usm13593334/',\n",
       " 'https://us.kompass.com/c/mt-view-sales-marketing-llc/usm13558317/',\n",
       " 'https://us.kompass.com/c/reddot-europe/usm13601143/',\n",
       " 'https://us.kompass.com/c/check-into-cash-inc/usm13564227/',\n",
       " 'https://us.kompass.com/c/anglers-choice/usm13555607/']"
      ]
     },
     "execution_count": 106,
     "metadata": {},
     "output_type": "execute_result"
    }
   ],
   "source": [
    "url_list"
   ]
  },
  {
   "cell_type": "code",
   "execution_count": 38,
   "id": "18c0931c",
   "metadata": {
    "scrolled": true
   },
   "outputs": [
    {
     "data": {
      "text/plain": [
       "['/c/oar-northwest/usm13581271/',\n",
       " '/c/rena-ware-distributors-inc/usm13555542/',\n",
       " '/c/atlas-air-conditioning-inc/usm13601423/',\n",
       " '/c/apt-host-communications-inc/usm13581994/',\n",
       " '/c/premiere-events-corp/usm13552192/',\n",
       " '/c/washington-cultural-exchange/usm13560807/',\n",
       " '/c/busy-body-home-fitness/usm13601087/',\n",
       " '/c/jenny-craig-inc/usm13592147/',\n",
       " '/c/pcc-financial-svc/usm13581116/',\n",
       " '/c/rot-dr/usm13594721/',\n",
       " '/c/sr-schill-associates-inc/usm13581924/',\n",
       " '/c/alpine-gentle-roof-cleaning/usm13601359/',\n",
       " '/c/kelly-joan-t-licsw/usm13580363/',\n",
       " '/c/mac-maniman-inc/usm13561467/',\n",
       " '/c/community-technology-institute/usm13592100/',\n",
       " '/c/education-first-consulting-llc/usm13593334/',\n",
       " '/c/mt-view-sales-marketing-llc/usm13558317/',\n",
       " '/c/reddot-europe/usm13601143/',\n",
       " '/c/check-into-cash-inc/usm13564227/',\n",
       " '/c/anglers-choice/usm13555607/']"
      ]
     },
     "execution_count": 38,
     "metadata": {},
     "output_type": "execute_result"
    }
   ],
   "source": [
    "response.css('div[class = \"col col-title company-container\"]>a::attr(href)').extract()"
   ]
  },
  {
   "cell_type": "code",
   "execution_count": 39,
   "id": "2af87684",
   "metadata": {},
   "outputs": [
    {
     "data": {
      "text/plain": [
       "['/c/oar-northwest/usm13581271/',\n",
       " '/c/rena-ware-distributors-inc/usm13555542/',\n",
       " '/c/atlas-air-conditioning-inc/usm13601423/',\n",
       " '/c/apt-host-communications-inc/usm13581994/',\n",
       " '/c/premiere-events-corp/usm13552192/',\n",
       " '/c/washington-cultural-exchange/usm13560807/',\n",
       " '/c/busy-body-home-fitness/usm13601087/',\n",
       " '/c/jenny-craig-inc/usm13592147/',\n",
       " '/c/pcc-financial-svc/usm13581116/',\n",
       " '/c/rot-dr/usm13594721/',\n",
       " '/c/sr-schill-associates-inc/usm13581924/',\n",
       " '/c/alpine-gentle-roof-cleaning/usm13601359/',\n",
       " '/c/kelly-joan-t-licsw/usm13580363/',\n",
       " '/c/mac-maniman-inc/usm13561467/',\n",
       " '/c/community-technology-institute/usm13592100/',\n",
       " '/c/education-first-consulting-llc/usm13593334/',\n",
       " '/c/mt-view-sales-marketing-llc/usm13558317/',\n",
       " '/c/reddot-europe/usm13601143/',\n",
       " '/c/check-into-cash-inc/usm13564227/',\n",
       " '/c/anglers-choice/usm13555607/']"
      ]
     },
     "execution_count": 39,
     "metadata": {},
     "output_type": "execute_result"
    }
   ],
   "source": [
    "response.xpath('//div[@class = \"col col-title company-container\"]//a/@href').extract()"
   ]
  },
  {
   "cell_type": "code",
   "execution_count": 46,
   "id": "saved-lotus",
   "metadata": {},
   "outputs": [],
   "source": [
    "temp_url = url_list[0]\n",
    "\n",
    "session = HTMLSession()\n",
    "response = session.get(temp_url)\n",
    "response = TextResponse(url = response.url, body = response.text, encoding = \"utf-8\")"
   ]
  },
  {
   "cell_type": "code",
   "execution_count": 55,
   "id": "c2b7aead",
   "metadata": {},
   "outputs": [
    {
     "data": {
      "text/plain": [
       "['\\r\\n\\t        ',\n",
       " '\\r\\n\\t                Po Box 31402 ',\n",
       " '\\r\\n\\t                ',\n",
       " '\\r\\n\\t        Seattle WA 98103',\n",
       " 'United States']"
      ]
     },
     "execution_count": 55,
     "metadata": {},
     "output_type": "execute_result"
    }
   ],
   "source": [
    "response.xpath('//span[@class = \"spRight\"]//text()').extract()"
   ]
  },
  {
   "cell_type": "code",
   "execution_count": 42,
   "id": "regulation-lithuania",
   "metadata": {},
   "outputs": [
    {
     "data": {
      "text/plain": [
       "'Seattle WA 98103'"
      ]
     },
     "execution_count": 42,
     "metadata": {},
     "output_type": "execute_result"
    }
   ],
   "source": [
    "add1 = [j for j in [i.strip() for i in response.css('span[class = \"spRight\"]::text').extract()] if j !=''][0]\n",
    "add1"
   ]
  },
  {
   "cell_type": "code",
   "execution_count": 56,
   "id": "d4cb5fdc",
   "metadata": {},
   "outputs": [
    {
     "data": {
      "text/plain": [
       "['\\r\\n\\t                Po Box 31402 ', '\\r\\n\\t                ']"
      ]
     },
     "execution_count": 56,
     "metadata": {},
     "output_type": "execute_result"
    }
   ],
   "source": [
    "response.xpath('//span[@class = \"spRight\"]//span/text()').extract()"
   ]
  },
  {
   "cell_type": "code",
   "execution_count": 7,
   "id": "genuine-european",
   "metadata": {},
   "outputs": [
    {
     "data": {
      "text/plain": [
       "'Po Box 31402'"
      ]
     },
     "execution_count": 7,
     "metadata": {},
     "output_type": "execute_result"
    }
   ],
   "source": [
    "add2 = [j for j in [i.strip() for i in response.css('span[class = \"spRight\"]>span::text').extract()] if j != ''][0]\n",
    "add2"
   ]
  },
  {
   "cell_type": "code",
   "execution_count": 8,
   "id": "changing-major",
   "metadata": {},
   "outputs": [],
   "source": [
    "address = add2 + ' | ' + add1"
   ]
  },
  {
   "cell_type": "code",
   "execution_count": 9,
   "id": "million-double",
   "metadata": {
    "scrolled": true
   },
   "outputs": [
    {
     "data": {
      "text/plain": [
       "'Po Box 31402 | Seattle WA 98103'"
      ]
     },
     "execution_count": 9,
     "metadata": {},
     "output_type": "execute_result"
    }
   ],
   "source": [
    "address"
   ]
  },
  {
   "cell_type": "code",
   "execution_count": null,
   "id": "2a87e247",
   "metadata": {},
   "outputs": [],
   "source": []
  },
  {
   "cell_type": "code",
   "execution_count": null,
   "id": "184addaa",
   "metadata": {},
   "outputs": [],
   "source": []
  },
  {
   "cell_type": "code",
   "execution_count": null,
   "id": "2785134e",
   "metadata": {},
   "outputs": [],
   "source": []
  },
  {
   "cell_type": "code",
   "execution_count": 61,
   "id": "38f30da1",
   "metadata": {},
   "outputs": [
    {
     "data": {
      "text/plain": [
       "['https://us.kompass.com/c/oar-northwest/usm13581271/',\n",
       " 'https://us.kompass.com/c/rena-ware-distributors-inc/usm13555542/',\n",
       " 'https://us.kompass.com/c/atlas-air-conditioning-inc/usm13601423/',\n",
       " 'https://us.kompass.com/c/apt-host-communications-inc/usm13581994/',\n",
       " 'https://us.kompass.com/c/premiere-events-corp/usm13552192/',\n",
       " 'https://us.kompass.com/c/washington-cultural-exchange/usm13560807/',\n",
       " 'https://us.kompass.com/c/busy-body-home-fitness/usm13601087/',\n",
       " 'https://us.kompass.com/c/jenny-craig-inc/usm13592147/',\n",
       " 'https://us.kompass.com/c/pcc-financial-svc/usm13581116/',\n",
       " 'https://us.kompass.com/c/rot-dr/usm13594721/',\n",
       " 'https://us.kompass.com/c/sr-schill-associates-inc/usm13581924/',\n",
       " 'https://us.kompass.com/c/alpine-gentle-roof-cleaning/usm13601359/',\n",
       " 'https://us.kompass.com/c/kelly-joan-t-licsw/usm13580363/',\n",
       " 'https://us.kompass.com/c/mac-maniman-inc/usm13561467/',\n",
       " 'https://us.kompass.com/c/community-technology-institute/usm13592100/',\n",
       " 'https://us.kompass.com/c/education-first-consulting-llc/usm13593334/',\n",
       " 'https://us.kompass.com/c/mt-view-sales-marketing-llc/usm13558317/',\n",
       " 'https://us.kompass.com/c/reddot-europe/usm13601143/',\n",
       " 'https://us.kompass.com/c/check-into-cash-inc/usm13564227/',\n",
       " 'https://us.kompass.com/c/anglers-choice/usm13555607/']"
      ]
     },
     "execution_count": 61,
     "metadata": {},
     "output_type": "execute_result"
    }
   ],
   "source": [
    "url_list"
   ]
  },
  {
   "cell_type": "code",
   "execution_count": 80,
   "id": "c580d0a8",
   "metadata": {},
   "outputs": [],
   "source": [
    "session = HTMLSession()\n",
    "response = session.get(url)\n",
    "response = TextResponse(url = response.url, body = response.text, encoding = \"utf-8\")\n",
    "url_list = ['https://us.kompass.com'+i for i in response.css('div[class = \"col col-title company-container\"]>a::attr(href)').extract()]\n",
    "temp_url = url_list[0]\n",
    "\n",
    "def scrapefunc(url):\n",
    "    \n",
    "        session = HTMLSession()\n",
    "        response = session.get(temp_url)\n",
    "        response = TextResponse(url = response.url, body = response.text, encoding = \"utf-8\")\n",
    "        add1 = [j for j in [i.strip() for i in response.css('span[class = \"spRight\"]::text').extract()] if j !=''][0]\n",
    "        add2 = [j for j in [i.strip() for i in response.css('span[class = \"spRight\"]>span::text').extract()] if j != ''][0]\n",
    "        address = add2 + ' | ' + add1\n",
    "        print(address)"
   ]
  },
  {
   "cell_type": "code",
   "execution_count": 82,
   "id": "90cfd95e",
   "metadata": {},
   "outputs": [],
   "source": [
    "session = HTMLSession()\n",
    "response = session.get(url)\n",
    "response = TextResponse(url = response.url, body = response.text, encoding = \"utf-8\")\n",
    "url_list = ['https://us.kompass.com'+i for i in response.css('div[class = \"col col-title company-container\"]>a::attr(href)').extract()]\n"
   ]
  },
  {
   "cell_type": "code",
   "execution_count": 83,
   "id": "2e746954",
   "metadata": {},
   "outputs": [
    {
     "data": {
      "text/plain": [
       "[]"
      ]
     },
     "execution_count": 83,
     "metadata": {},
     "output_type": "execute_result"
    }
   ],
   "source": [
    "url_list"
   ]
  },
  {
   "cell_type": "code",
   "execution_count": 136,
   "id": "cf386d39",
   "metadata": {
    "scrolled": true
   },
   "outputs": [
    {
     "name": "stdout",
     "output_type": "stream",
     "text": [
      "0\n",
      "1\n",
      "2\n"
     ]
    }
   ],
   "source": [
    "allpages = []\n",
    "for i in range(3):\n",
    "    print(i)\n",
    "    url = ('https://us.kompass.com/searchCompanies/scroll?tab=cmp&pageNbre={}&acClassif=&localizationCode=US_53_033&localizationLabel=King+County&localizationType=district&text=&searchType=SUPPLIER4'.format(i))\n",
    "    session = HTMLSession()\n",
    "    response = session.get(url)\n",
    "    response = TextResponse(url = response.url, body = response.text, encoding = \"utf-8\")\n",
    "    url_list = ['https://us.kompass.com'+i for i in response.css('div[class = \"col col-title company-container\"]>a::attr(href)').extract()]\n",
    "    allpages.append(url_list)\n",
    "    time.sleep(3)"
   ]
  },
  {
   "cell_type": "code",
   "execution_count": 137,
   "id": "84d543bd",
   "metadata": {},
   "outputs": [
    {
     "data": {
      "text/plain": [
       "[[], [], []]"
      ]
     },
     "execution_count": 137,
     "metadata": {},
     "output_type": "execute_result"
    }
   ],
   "source": [
    "allpages"
   ]
  },
  {
   "cell_type": "code",
   "execution_count": 162,
   "id": "8e541320",
   "metadata": {},
   "outputs": [],
   "source": [
    "url = 'https://us.kompass.com/searchCompanies/scroll?tab=cmp&pageNbre=2&token=03AGdBq25D6BR4NeAAcIYLtFWG-NtXbgmmlz24uHkT8KomQLvrLajBXU0uKW9r71CNu9QV8GkL7MJb-H9hzb4c1UPyQjj6bWg_k7gEN5u4J41tZ2JDmTS2nXbnqB1okRU7CEutNGhyQ_kIkMnrDqgEXUrkKbkbIAS5NIMD01iglyI_kTYxyr5Zfcn3325lsZQUV2UGomzvmksWSedKwDgAv5JKNMYXOrNljSbJc4eRQmcT5gXugvfKL4D1XaIscQHlmR-ItY6CNQfuM5jgT0d6PsNZxA-zrt1Eam8jDkJx8ARzGQ6sQDlL85HktIN6bCwpdP3S9ZsQ2uQZL-eRKk5hnqiz8_OccQUcui1dc7A0ph1RHunt0xfneiKFEx-Ac7q5u9Ze40sMF-dXnjEOWPF3ZqLhAWhBT9MBITrywIclTVrFKFfL_dx7C7K1VCqkKLFnOKPkgpWcKwR7kXFob5KctWbcYwgWaoIytA'\n",
    "session = HTMLSession()\n",
    "response = session.get(url)\n",
    "response = TextResponse(url = response.url, body = response.text, encoding = \"utf-8\")\n",
    "url_list = ['https://us.kompass.com'+i for i in response.css('div[class = \"col col-title company-container\"]>a::attr(href)').extract()]"
   ]
  },
  {
   "cell_type": "code",
   "execution_count": 124,
   "id": "ec5ca7b6",
   "metadata": {},
   "outputs": [
    {
     "data": {
      "text/plain": [
       "[]"
      ]
     },
     "execution_count": 124,
     "metadata": {},
     "output_type": "execute_result"
    }
   ],
   "source": [
    "response.css('div[class = \"col col-title company-container\"]')"
   ]
  },
  {
   "cell_type": "code",
   "execution_count": 164,
   "id": "cc12bfa0",
   "metadata": {},
   "outputs": [
    {
     "data": {
      "text/plain": [
       "[]"
      ]
     },
     "execution_count": 164,
     "metadata": {},
     "output_type": "execute_result"
    }
   ],
   "source": [
    "url_list"
   ]
  }
 ],
 "metadata": {
  "kernelspec": {
   "display_name": "Python 3",
   "language": "python",
   "name": "python3"
  },
  "language_info": {
   "codemirror_mode": {
    "name": "ipython",
    "version": 3
   },
   "file_extension": ".py",
   "mimetype": "text/x-python",
   "name": "python",
   "nbconvert_exporter": "python",
   "pygments_lexer": "ipython3",
   "version": "3.8.8"
  }
 },
 "nbformat": 4,
 "nbformat_minor": 5
}
